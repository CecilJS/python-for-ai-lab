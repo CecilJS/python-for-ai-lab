{
 "cells": [
  {
   "cell_type": "markdown",
   "metadata": {},
   "source": [
    "# Introduction to the Python programming language\n",
    "\n",
    "In this notebook we will cover the basics principals of python, both in terms of development and philosophy. We will focus primarily on Python 3."
   ]
  },
  {
   "cell_type": "markdown",
   "metadata": {},
   "source": [
    "## 1. What is Python?\n",
    "\n",
    "[Python is an interpreted, object-oriented, high-level programming language with dynamic semantics.](https://www.python.org/doc/essays/blurb/)\n",
    "\n",
    "First appearing in 1991, Python was designed by [Guido van Rossum](https://gvanrossum.github.io/).\n",
    "\n",
    "Python is interpreted. Unlike C and like programming languages which must be compiled, Python code is executed directly by a Python interpreter rather than a machine. As a high-level language, Python is also far-removed from the challenges associated with lower-level programming languages (such as assembly languages), making it much easier to learn.\n",
    "\n",
    "Python is further defined as an object-oriented language with dynamic semantics, what does that mean? In the next section we will review Python semantics and then tackle [Object Oriented Programming](https://en.wikipedia.org/wiki/Object-oriented_programming)"
   ]
  },
  {
   "cell_type": "markdown",
   "metadata": {},
   "source": [
    "## 2. Python semantics\n",
    "\n",
    "So what's the connection between a programming language and semantics anyway? In programming, when we talk about [semantics](https://en.wikipedia.org/wiki/Semantics_(computer_science)) we are often concerned about what is _[syntactically](https://en.wikipedia.org/wiki/Syntax_(programming_languages)) valid_ in a given language. So then, what's considered \"syntactically valid\" in Python. For instance, if I wanted to write a small Python program that would just display the text \"Hello, world!\" on my screen, what would that look like?\n",
    "\n",
    "Let's get our first glimps at the Python programming language, and then we can discuss our observation.\n",
    "\n",
    "The below cell is an *executable cell*. You can select it and press `run` to execute a block of Python code. Try executing the next cell."
   ]
  },
  {
   "cell_type": "code",
   "execution_count": 1,
   "metadata": {},
   "outputs": [
    {
     "data": {
      "text/plain": [
       "'Hello, world!'"
      ]
     },
     "execution_count": 1,
     "metadata": {},
     "output_type": "execute_result"
    }
   ],
   "source": [
    "\"Hello, world!\""
   ]
  },
  {
   "cell_type": "markdown",
   "metadata": {},
   "source": [
    "Well, that doesn't look much like a program, does it. But in fact, what you just observed is the foundation of Python and all [_imperative programming languages_](https://en.wikipedia.org/wiki/Imperative_programming). Wait, I thought we said Python was object oriented, why are we now calling it _imperative_. In fact, most object oriented languages are also imperative by their very nature. Let's consider why this matters, and how imperative programming relates to the code block we just executed above.\n",
    "\n",
    "First, consider what \"imperative programming\" means. Imperative languages are based on statements, and those statements determine the [flow of control](https://en.wikipedia.org/wiki/Control_flow) within a program. A statement that controls something? That probably sounds familiar, often we call these **instructions**, you can think of statements as instructions or micro instructions if you like. All actions within an imperative program are caused by, and only only occure because of, a given statement which produced the action. In other words, the program is strictly controlled by instructions.\n",
    "\n",
    "Above, you saw that philosophy in action, we declared the instruction (to print) _\"Hello, world!\"_ and we got back the output _\"Hello, world!\"_\n",
    "Our statement directly controlled what was output by the program. Try changing the code block above and see what outputs you can get. Afterward, we can consider the kinds of statements available in Python below."
   ]
  },
  {
   "cell_type": "markdown",
   "metadata": {},
   "source": [
    "### 2.1 Python statements\n",
    "\n",
    "Programs in Python consists of lines composed of statements, which can be of the following type:\n",
    "\n",
    "- [simple statements](https://docs.python.org/3/reference/simple_stmts.html), such as a(n):\n",
    "    - [expression](https://docs.python.org/3/reference/simple_stmts.html#grammar-token-expression-stmt); [see also](https://docs.python.org/3/reference/expressions.html), as demonstrated in [#2.](#2.-Python-semantics)\n",
    "    - [assert](https://docs.python.org/3/reference/simple_stmts.html#grammar-token-assert-stmt)\n",
    "    - [assignment](https://docs.python.org/3/reference/simple_stmts.html#grammar-token-assignment-stmt)\n",
    "    - [pass](https://docs.python.org/3/reference/simple_stmts.html#grammar-token-pass-stmt)\n",
    "    - [delete](https://docs.python.org/3/reference/simple_stmts.html#grammar-token-del-stmt)\n",
    "    - [return](https://docs.python.org/3/reference/simple_stmts.html#grammar-token-return-stmt)\n",
    "    - [yield](https://docs.python.org/3/reference/simple_stmts.html#grammar-token-yield-stmt)\n",
    "    - [raise](https://docs.python.org/3/reference/simple_stmts.html#grammar-token-raise-stmt)\n",
    "    - [break](https://docs.python.org/3/reference/simple_stmts.html#grammar-token-break-stmt)\n",
    "    - [continue](https://docs.python.org/3/reference/simple_stmts.html#grammar-token-continue-stmt)\n",
    "    - [import](https://docs.python.org/3/reference/simple_stmts.html#grammar-token-import-stmt)\n",
    "    - [future](https://docs.python.org/3/reference/simple_stmts.html#grammar-token-future-stmt)\n",
    "    - [global](https://docs.python.org/3/reference/simple_stmts.html#grammar-token-global-stmt)\n",
    "    - [nonlocal](https://docs.python.org/3/reference/simple_stmts.html#grammar-token-nonlocal-stmt)\n",
    "- [compound statements](https://docs.python.org/3/reference/compound_stmts.html), such as a(n):\n",
    "    - [if](https://docs.python.org/3/reference/compound_stmts.html#grammar-token-if-stmt)\n",
    "    - [while](https://docs.python.org/3/reference/compound_stmts.html#grammar-token-while-stmt)\n",
    "    - [for](https://docs.python.org/3/reference/compound_stmts.html#grammar-token-for-stmt)\n",
    "    - [try](https://docs.python.org/3/reference/compound_stmts.html#grammar-token-try-stmt)\n",
    "    - [with](https://docs.python.org/3/reference/compound_stmts.html#grammar-token-with-stmt)\n",
    "    - [function definition](https://docs.python.org/3/reference/compound_stmts.html#grammar-token-funcdef)\n",
    "    - [class definition](https://docs.python.org/3/reference/compound_stmts.html#grammar-token-classdef)\n",
    "    - [co-routine](https://docs.python.org/3/reference/compound_stmts.html#coroutines)\n"
   ]
  },
  {
   "cell_type": "markdown",
   "metadata": {},
   "source": [
    "We will not consider all of these in this lesson, but I encourage you to look at the documentation linked above for yourself.\n",
    "\n",
    "We've already seen how expressions work, though to a limited degree. Below we will examine expressions in more detail."
   ]
  },
  {
   "cell_type": "markdown",
   "metadata": {},
   "source": [
    "#### 2.1.1 Expressions"
   ]
  },
  {
   "cell_type": "markdown",
   "metadata": {},
   "source": [
    "#### 2.1.2 Assignments"
   ]
  },
  {
   "cell_type": "markdown",
   "metadata": {},
   "source": [
    "#### 2.1.3 Deletions"
   ]
  },
  {
   "cell_type": "markdown",
   "metadata": {},
   "source": [
    "#### 2.1.4 Returns"
   ]
  },
  {
   "cell_type": "markdown",
   "metadata": {},
   "source": [
    "#### 2.1.5 Imports"
   ]
  },
  {
   "cell_type": "markdown",
   "metadata": {},
   "source": [
    "#### 2.1.6 Globals"
   ]
  },
  {
   "cell_type": "markdown",
   "metadata": {},
   "source": [
    "#### 2.1.7 If"
   ]
  },
  {
   "cell_type": "markdown",
   "metadata": {},
   "source": [
    "#### 2.1.8 While"
   ]
  },
  {
   "cell_type": "markdown",
   "metadata": {},
   "source": [
    "#### 2.1.9 For"
   ]
  },
  {
   "cell_type": "markdown",
   "metadata": {},
   "source": [
    "#### 2.1.10 Try"
   ]
  },
  {
   "cell_type": "markdown",
   "metadata": {},
   "source": [
    "#### 2.1.11 With"
   ]
  },
  {
   "cell_type": "markdown",
   "metadata": {},
   "source": [
    "#### 2.1.12 Function definitions"
   ]
  },
  {
   "cell_type": "markdown",
   "metadata": {},
   "source": [
    "#### 2.1.13 Function definitions"
   ]
  },
  {
   "cell_type": "code",
   "execution_count": null,
   "metadata": {},
   "outputs": [],
   "source": []
  },
  {
   "cell_type": "code",
   "execution_count": null,
   "metadata": {},
   "outputs": [],
   "source": []
  },
  {
   "cell_type": "code",
   "execution_count": null,
   "metadata": {},
   "outputs": [],
   "source": []
  },
  {
   "cell_type": "markdown",
   "metadata": {},
   "source": []
  },
  {
   "cell_type": "code",
   "execution_count": null,
   "metadata": {},
   "outputs": [],
   "source": []
  },
  {
   "cell_type": "code",
   "execution_count": null,
   "metadata": {},
   "outputs": [],
   "source": []
  },
  {
   "cell_type": "markdown",
   "metadata": {},
   "source": [
    "After running the cell above, you should have seen some *output*"
   ]
  },
  {
   "cell_type": "code",
   "execution_count": null,
   "metadata": {},
   "outputs": [],
   "source": []
  },
  {
   "cell_type": "code",
   "execution_count": null,
   "metadata": {},
   "outputs": [],
   "source": []
  },
  {
   "cell_type": "code",
   "execution_count": null,
   "metadata": {},
   "outputs": [],
   "source": []
  },
  {
   "cell_type": "code",
   "execution_count": null,
   "metadata": {},
   "outputs": [],
   "source": []
  }
 ],
 "metadata": {
  "kernelspec": {
   "display_name": "Python 3",
   "language": "python",
   "name": "python3"
  },
  "language_info": {
   "codemirror_mode": {
    "name": "ipython",
    "version": 3
   },
   "file_extension": ".py",
   "mimetype": "text/x-python",
   "name": "python",
   "nbconvert_exporter": "python",
   "pygments_lexer": "ipython3",
   "version": "3.8.5"
  }
 },
 "nbformat": 4,
 "nbformat_minor": 4
}
