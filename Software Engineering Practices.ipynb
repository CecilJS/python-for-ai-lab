{
 "cells": [
  {
   "cell_type": "markdown",
   "metadata": {},
   "source": [
    "# Software Engineering Practices\n",
    "\n",
    "In this notebook we will cover the practice of software development in relation to high-level languages such as Python. The code examples will be written in Python. In this lesson we will not make a distinction between a computer programmer, software developer, or software engineer. In this notebook, they will all refer to the same profession.\n",
    "\n",
    "I will generally use the expression [software engineer](https://en.wikipedia.org/wiki/Software_engineer) because I think the general understanding of that expression pertains to the topics at hand just fine.\n",
    "\n",
    "> A **software engineer**...  is a person who applies the principles of [software engineering](https://en.wikipedia.org/wiki/Software_engineering) to the design, development, maintenance, testing, and evaluation of [computer software](https://en.wikipedia.org/wiki/Software).\n",
    "\n",
    "By now you should have at least a basic knowledge of the Python programming language. If someone asked you to write a simple program in this notebook, for instance, you should be able to do it.\n",
    "\n",
    "This lesson, then, is not meant to introduce you to programming, but rather to introduce you to important practices that software developers and engineers are expected to be knowledgeable of."
   ]
  },
  {
   "cell_type": "markdown",
   "metadata": {},
   "source": [
    "## 1. Introduction to software engineering practices\n",
    "\n",
    "You will often hear of different software engineering 'practices' in the workplace. Professionals are expected to be able to apply _widely accepted practices_ which improve the overall quality of a team or project. This is critical because your _personally preferred practices_ may differ from what others prefer. Professional software engineering, especially when working on a team, requires a level of consistency and quality. Therefore, some practices will likely need to be applied across an entire project or team so that you might meet your target metrics. Of course, many professionals, teams, and even organizations have already experimented with different practices; this is where the idea of [_'best practices'_](https://en.wikipedia.org/wiki/Best_practice) comes in to play. These are practices that have proven to be effective across projects, teams, and organizations.\n",
    "\n",
    "_'Practice'_ is usually in reference to the above mentioned practice of applying 'the principles of software engineering to the design, development, maintenance, testing, and evaluation of computer software.' For instance, one practice may pertain to the general efficiency and modularity of code, while another practice may pertain to a specific nuance of [version control](https://en.wikipedia.org/wiki/Version_control) or something else.\n",
    "\n",
    "For example, one programmer may prefer the development practice of using the shortest possible names (consider the function name `get_doc_el()`) while others may prefer using unabbreviated names (consider the equivalent function name `get_document_element()`). Yet, either practice is often inconsequential as long as the over all _'best practice'_ of using _clear, specific, meaningful names_ is applied.\n",
    "\n",
    "Therefore, when a professional suggests a _'best practice'_, it is almost always a practice that is _widely considered superior than alternative practices_ and not merely a personal preference.\n",
    "\n",
    "If we consider our development practice relating to naming above, an inferior practice would be to use broad, confusing, or meaningless names such as `get_the_dat()` which uses a lot of characters to communicates very little information."
   ]
  },
  {
   "cell_type": "markdown",
   "metadata": {},
   "source": [
    "### 1.1 Who is concerned with best practices?\n",
    "\n",
    "Generally, senior professionals expected to understand _**why**_ a practice is best and _**how**_ to tweak a practice to better fit a team or project, while more junior professionals are expected to know _**what**_ best practices to use in a given environment. The software engineering community as a whole is in agreement concerning most honest _'best practice'_ without much dissent.\n",
    "\n",
    "Likely these practices will be of great concern to you."
   ]
  },
  {
   "cell_type": "markdown",
   "metadata": {},
   "source": [
    "### 1.2 Lesson overview\n",
    "\n",
    "In this lesson, you will learn about the following software engineering practices:\n",
    "\n",
    "- Writing clean, efficient, modular, and optimized code\n",
    "- Writing maintainable, testable, and documented code\n",
    "- Collaborative engineering and version control with Git\n",
    "\n",
    "You will also learn about and practice code refactoring with the goal of improving a programs quality."
   ]
  },
  {
   "cell_type": "markdown",
   "metadata": {},
   "source": [
    "## 2. Software quality best practices\n",
    "\n",
    "> Best practices are used to maintain quality as an alternative to mandatory legislated standards and can be based on self-assessment or benchmarking.\n",
    "\n",
    "This section will focus on what we write as software engineers--[quality software](https://en.wikipedia.org/wiki/Non-functional_requirement)--in relation to [non-functional requirements](https://en.wikipedia.org/wiki/Non-functional_requirement); 'the degree to which the software works as needed.'"
   ]
  },
  {
   "cell_type": "markdown",
   "metadata": {},
   "source": [
    "### 2.1 Clean code\n",
    "\n",
    "> \"It is not enough for code to work.\" - Robert C. Martin, Clean Code: A Handbook of Agile Software Craftsmanship\n",
    "\n",
    "Clean code is readable, simple, and concise. This kind of code makes for good collaboration. When one person can write a piece of code and everyone else can easily understand it, that is a fine piece of code.\n",
    "\n",
    "Consider the following code block."
   ]
  },
  {
   "cell_type": "code",
   "execution_count": null,
   "metadata": {},
   "outputs": [],
   "source": [
    "def to_string(iterable=()):\n",
    "    \"\"\"\n",
    "    Transforms an iterable into a string.\n",
    "\n",
    "    Args:\n",
    "        iterable: Any iterable object, such as a list or tuple.\n",
    "\n",
    "    Returns:\n",
    "        A str.\n",
    "    \"\"\"\n",
    "    \n",
    "    s = ''\n",
    "    \n",
    "    for item in iterable:\n",
    "        s += str(item)\n",
    "    \n",
    "    return s"
   ]
  },
  {
   "cell_type": "code",
   "execution_count": null,
   "metadata": {},
   "outputs": [],
   "source": [
    "to_string(['H', 'i', '.'])"
   ]
  },
  {
   "cell_type": "markdown",
   "metadata": {},
   "source": [
    "Above, we observe a piece of code that reads dimply and concisely. You do not need to stop and ask 'what does this do?' or 'why does it do that?'; It does what it says, and it does so in a simple, obvious way. \n",
    "\n",
    "We can also see that this function is modular."
   ]
  },
  {
   "cell_type": "markdown",
   "metadata": {},
   "source": [
    "Modularity is often associated with clean code. Modular code is logically broken up into pieces, such as functions and modules. These pieces are then composed as needed. Modular code is often reusable if implemented pragmatically.\n",
    "\n",
    "In Python a [module](https://docs.python.org/3/tutorial/modules.html) is just a file.\n",
    "\n",
    "> A module is a file containing Python definitions and statements. The file name is the module name with the suffix `.py` appended. Within a module, the module’s name (as a string) is available as the value of the global variable `__name__`. \n",
    "\n",
    "The above link contains a simple guide to implementing a module named `fibo`, try following that guide using the file `fibo.py` in the same directory as this notebook.\n",
    "\n",
    "Afterward use the `import fibo` statement below to import your module, run the containing procedure and function, print out the returned value of the function, and print out the module `__name__`."
   ]
  },
  {
   "cell_type": "code",
   "execution_count": null,
   "metadata": {},
   "outputs": [],
   "source": [
    "import fibo\n",
    "#\n",
    "# Your code here\n",
    "#\n"
   ]
  },
  {
   "cell_type": "markdown",
   "metadata": {},
   "source": [
    "Excellent, now that we have our first module, let's review some key principles that make code clean."
   ]
  },
  {
   "cell_type": "markdown",
   "metadata": {},
   "source": [
    "#### 2.1.1 Meaningful names\n",
    "\n",
    "> 'You should name a variable using the same care with which you name a first-born child.You should name a variable using the same care with which you name a first-born child.' - Robert C. Martin, Clean Code: A Handbook of Agile Software Craftsmanship\n",
    "\n",
    "Names are used to convey meaning, try to convey as much meaning as you possibly in as few descriptors as possible.\n",
    "\n",
    "Meaningful names are:\n",
    "\n",
    "- Implicative. Use speech when possible to make implications. You may use a verb, for instance, when naming a function or a noun for naming a variable. For example, a boolean value might read `is_valid`.\n",
    "- Differentiable. Avoid similar and generic names. For example, avoid names like `data` if that data can be named something else, such as `form_value`."
   ]
  },
  {
   "cell_type": "markdown",
   "metadata": {},
   "source": [
    "#### 2.1.2 Meaningful styling\n",
    "\n",
    "From [`PEP 8`](https://www.python.org/dev/peps/pep-0008/)\n",
    "\n",
    "> A style guide is about consistency. Consistency with this style guide is important. Consistency within a project is more important. Consistency within one module or function is the most important.\n",
    "\n",
    "The above cited Python Enhancement Proposal offers a great deal of insight into how to 'style' your code. That is, how and where to use whitespace to make your code pleasant and readable.\n",
    "\n",
    "I encourage you too examine this style guide as well as others to get an idea of how whitespace can be used effectively. You can also take advantage of your text editor or IDE, many have style related features, such as code formatters. ['Black'](https://black.readthedocs.io/en/stable/) is supported by many popular tools.\n",
    "\n",
    "In summary, try to make code that is visually appealing to others."
   ]
  },
  {
   "cell_type": "markdown",
   "metadata": {},
   "source": [
    "### 2.2 Modular code\n",
    "\n",
    "Modularization in Python allows us to reuse parts of our code, for instance, by generalizing and consolidating repeated code into compound statements, definitions, or modules. One easy application is to make Python definitions responsible for only one thing. If a (compound) statement or definition prints the _fibonacci_ sequence, it should not also print _pie_ to a given decimal.\n",
    "\n",
    "We spoke a lot about what modularity looks like in the preceding section as it is strongly coupled with clean code practices. In this section, we will consider a few principles that contribute to modular code."
   ]
  },
  {
   "cell_type": "markdown",
   "metadata": {},
   "source": [
    "#### 2.2.1 [DRY](https://en.wikipedia.org/wiki/Don%27t_repeat_yourself)\n",
    "\n",
    "> Every piece of knowledge must have a single, unambiguous, authoritative representation within a system.\n",
    "\n",
    "The DRY principle helps us to write modular code by forcing us write our code in such a way that any 'modification of any single element of a system does not require a change in other logically unrelated elements'.\n",
    "\n",
    "Consider the following block of code."
   ]
  },
  {
   "cell_type": "code",
   "execution_count": null,
   "metadata": {},
   "outputs": [],
   "source": [
    "quarters = [1, 2, 3, 4]\n",
    "quarter_profits = [100_000.00, 140_000.00, 180_000.00, 200_000.00]\n",
    "frequency = 'quarter'\n",
    "\n",
    "print(f\"{frequency.capitalize()} {quarters[0]} profits were EURO {quarter_profits[0]}\",\n",
    "      f\"\\n{frequency.capitalize()} {quarters[1]} profits were EURO {quarter_profits[1]}\",\n",
    "      f\"\\n{frequency.capitalize()} {quarters[2]} profits were EURO {quarter_profits[2]}\",\n",
    "      f\"\\n{frequency.capitalize()} {quarters[3]} profits were EURO {quarter_profits[3]}\")"
   ]
  },
  {
   "cell_type": "markdown",
   "metadata": {},
   "source": [
    "What's wrong with the code above?\n",
    "\n",
    "Stylistically it's fine, names are readable and obvious, whitespace is consistent and up to standard, and the code is clear and concise. Use of the [`f-string`](https://www.python.org/dev/peps/pep-0498/) is also fine. There are no errors either. It probably performs just fine too. Further, anyone could look at the above code and figure out what it is doing. \n",
    "\n",
    "So what's wrong? This code is simply **not _pragmatic_**. \n",
    "\n",
    "Printing the profits of each **month** instead of each **quarter** would require rewriting practically the entire code block. It is not practical.\n",
    "\n",
    "In the cell below, refactor the above block of code so that generalizes both to months and quarters, and can be further extended arbitrarily."
   ]
  },
  {
   "cell_type": "code",
   "execution_count": null,
   "metadata": {},
   "outputs": [],
   "source": [
    "quarters = [1, 2, 3, 4]\n",
    "quarter_profits = [100_000.00, 140_000.00, 180_000.00, 200_000.00]\n",
    "\n",
    "months = [1, 2, 3, 4, 5, 6, 7, 8, 9, 10, 11, 12]\n",
    "month_profits = [20_000.00, 30_000.00, 50_000.00, 30_000.00, 60_000.00, 50_000.00, \n",
    "                 60_000.00, 70_000.00, 50_000.00, 100_000.00, 60_000.00, 40_000.00]\n",
    "\n",
    "#\n",
    "# Your code here.\n",
    "#\n"
   ]
  },
  {
   "cell_type": "markdown",
   "metadata": {},
   "source": [
    "There are a number of ways to solve the above challenge. Below, you can see one solution. Compare it to yours, or reference it if you get stuck."
   ]
  },
  {
   "cell_type": "code",
   "execution_count": null,
   "metadata": {},
   "outputs": [],
   "source": [
    "def print_profits(frequency, period, profit):\n",
    "    \"\"\"\n",
    "    Prints profits\n",
    "    \n",
    "    Args:\n",
    "        frequency: Any str. The name of a calendar period such as 'month' or 'quarter'.\n",
    "        period: Any int or str. A specific period in frequency.\n",
    "        profit: Any int or str. The profit in period.\n",
    "    \"\"\"\n",
    "    print(f\"{frequency.capitalize()} {period} profits were EURO {profit}\")\n",
    "    \n",
    "print(\"\\nMonthly profits:\")\n",
    "for i, month in enumerate(months):\n",
    "    print_profits('month', month, month_profits[i])\n",
    "    \n",
    "print(\"\\nQuareterly profits:\")\n",
    "for i, quarter in enumerate(quarters):\n",
    "    print_profits('quarter', quarter, quarter_profits[i])"
   ]
  },
  {
   "cell_type": "markdown",
   "metadata": {},
   "source": [
    "As you see, the code above can really be used for any frequency. Changing the reporting frequency requires minimal effort and can be done arbitrarily without touching the printing logic.\n",
    "\n",
    "> A modification of any single element of a system does not require a change in other logically unrelated elements."
   ]
  },
  {
   "cell_type": "markdown",
   "metadata": {},
   "source": [
    "### 2.3 Efficient Code\n",
    "\n",
    "Besides writing clean code, professionals need to produce code that is efficient.\n",
    "\n",
    "The _extent_ to which this must be accomplished usually varies from feature to feature, however, professionals will always try to write code that meets requirements while using the fewest possible resources. This requires [continuous planning, analysis, design, implementation, and maintenance](https://en.wikipedia.org/wiki/Systems_development_life_cycle)."
   ]
  },
  {
   "cell_type": "markdown",
   "metadata": {},
   "source": [
    "#### 2.3.1 [Optimization](https://en.wikipedia.org/wiki/Program_optimization#:~:text=In%20computer%20science%2C%20program%20optimization,efficiently%20or%20use%20fewer%20resources.)\n",
    "\n",
    "> Software optimization is the process of modifying a software system to make some aspect of it work more efficiently or use fewer resources.\n",
    "\n",
    "Optimization is a very different domain from clean and modular code as defined above. Optimization is not concerned about readability, maintainability, or anything like that. When we think of optimization, we usually have two goals in mind:\n",
    "\n",
    "- Increasing performance. _Code goes fast_.\n",
    "- Reducing cost. _Code uses less resources_.\n",
    "\n",
    "For instance, a Python function that _executes faster_ while using _less memory_ is by definition _more optimal_ if it continues to meet the original requirements. How can a function be optimized in such a way? This can often be accomplished by carefully choosing and implementing algorithms and data structures.\n",
    "\n",
    "Consider the code cells below which depict algorithms for finding the intersection between two unique arrays. We will be using the [`numpy`](https://numpy.org/) library, so make sure you have [`numpy` installed](https://numpy.org/install/)."
   ]
  },
  {
   "cell_type": "code",
   "execution_count": null,
   "metadata": {},
   "outputs": [],
   "source": [
    "import time\n",
    "from numpy.random import default_rng\n",
    "\n",
    "rng = default_rng()\n",
    "int_range = 10_000_000\n",
    "length = 200_000\n",
    "\n",
    "int_group1 = rng.choice(int_range, size=length, replace=False)\n",
    "int_group2 = rng.choice(int_range, size=length, replace=False)"
   ]
  },
  {
   "cell_type": "code",
   "execution_count": null,
   "metadata": {},
   "outputs": [],
   "source": [
    "start_time = time.time()\n",
    "\n",
    "intersecting_numbers = []\n",
    "\n",
    "for number in int_group1:\n",
    "    if number in int_group2:\n",
    "        intersecting_numbers.append(number)\n",
    "\n",
    "print(len(intersecting_numbers),\n",
    "      f'\\nCompleted in {time.time() - start_time} seconds')"
   ]
  },
  {
   "cell_type": "markdown",
   "metadata": {},
   "source": [
    "Above we see an example of a less than optimal solution.\n",
    "\n",
    "When I ran the above code, it took over _16 seconds_ to execute. This is because we are using both an inefficient data structure and an inefficient algorithm. Is there a better way? \n",
    "\n",
    "Consider a more efficient solution below."
   ]
  },
  {
   "cell_type": "code",
   "execution_count": null,
   "metadata": {},
   "outputs": [],
   "source": [
    "import numpy as np\n",
    "\n",
    "start_time = time.time()\n",
    "\n",
    "intersecting_numbers = np.intersect1d(int_group1, int_group2)\n",
    "\n",
    "print(len(intersecting_numbers),\n",
    "      f'\\nCompleted in {time.time() - start_time} seconds')"
   ]
  },
  {
   "cell_type": "markdown",
   "metadata": {},
   "source": [
    "Rather than iterate by means of loops, above we use [numpy.intersect1d](https://numpy.org/doc/stable/reference/generated/numpy.intersect1d.html) [vector operation](https://www.oreilly.com/library/view/python-for-data/9781449323592/ch04.html) to solve the same problem. \n",
    "\n",
    "When I ran the above code, it executed in about 0.03 seconds. That's quite the improvement!\n",
    "\n",
    "Can we increase performance further? In this example we changed the _algorithm_, we went from loops to a vector operation. What would happen if we now chose a better fitting _data structure_?\n",
    "\n",
    "Consider the following cell."
   ]
  },
  {
   "cell_type": "code",
   "execution_count": null,
   "metadata": {},
   "outputs": [],
   "source": [
    "int_group1 = set(int_group1)\n",
    "int_group2 = set(int_group2)"
   ]
  },
  {
   "cell_type": "markdown",
   "metadata": {},
   "source": [
    "Above, we have transformed the `numpy` arrays into Python sets. We can expect good performance. The Python [`set`](https://docs.python.org/3/tutorial/datastructures.html#sets) is implemented using the [hash table](https://en.wikipedia.org/wiki/Hash_table) data structure.\n",
    "\n",
    "How do you think our algorithm will perform when using the `intersection` method of the built in Python `set`?"
   ]
  },
  {
   "cell_type": "code",
   "execution_count": null,
   "metadata": {},
   "outputs": [],
   "source": [
    "start_time = time.time()\n",
    "\n",
    "intersecting_numbers = int_group1.intersection(int_group2)\n",
    "\n",
    "print(len(intersecting_numbers),\n",
    "      f'\\nCompleted in {time.time() - start_time} seconds')"
   ]
  },
  {
   "cell_type": "markdown",
   "metadata": {},
   "source": [
    "When I ran the above code, it executed in about 0.003 seconds. That means that our final solution performs 5333 times faster than are unoptimized solution.\n",
    "\n",
    "Optimization problems like the one illustrated above are common in the workplace. Take a moment to consider other like challenges that could be addressed in similar ways. Afterward we can dive into _maintainable code_."
   ]
  },
  {
   "cell_type": "markdown",
   "metadata": {},
   "source": [
    "### 2.4 Maintainable code\n",
    "\n",
    "Of course, many of the ideas above contribute to a maintainable code base. For instance, [DRY](#2.2.1-DRY) code is often easier to maintain and refactor, as you don't have to worry about breaking one feature while updating another. Likewise [SOLID](https://en.wikipedia.org/wiki/SOLID) code obviously offers many advantages over the entire life of a project.\n",
    "\n",
    "But what about the things we write that _aren't_ directly contributing to features? Tests for instance? Or documentation? How can such practices help make for better code?"
   ]
  },
  {
   "cell_type": "markdown",
   "metadata": {},
   "source": [
    "#### 2.4.1 Documentation\n",
    "\n",
    "Documentation is additional information that can be read along with software. Often it is even embedded in the code itself.\n",
    "\n",
    "Documentation can come in many forms. One of the obvious ones is documentation in the form of a reference guide, such as the [Python Documentation](https://docs.python.org/) which we have been referencing throughout this class. This kind of documentation can be great for complex [interfaces](https://en.wikipedia.org/wiki/Interface_(computing)) meant for external consumption, for instance if you were writing an [API](https://en.wikipedia.org/wiki/API) for a complex cloud solution like Azure, AWS, or Google Cloud. A related type of documentation is project level documentation, such as in the form of a `README.md` file.\n",
    "\n",
    "\n",
    "But when is it a good idea to embed the documentation in the code itself? Previously we mentioned how good names are better than documentation in the form of comments. But does that mean we _never_ need comments? What about the docstrings we're so found of? What about in-line comments? These too have a place. \n",
    "\n",
    "in this section we will walk through some common documentation practices."
   ]
  },
  {
   "cell_type": "markdown",
   "metadata": {},
   "source": [
    "##### 2.4.1.1 In-line comments\n",
    "\n",
    "In Python, in-line comments are those small snippets of text preceded by a hash symbols. They are used to explain bites of code.\n",
    "\n",
    "```py\n",
    "# A comment.\n",
    "```\n",
    "\n",
    "These types of comments are usually for other contributers. If the writer of the code is performing a complex or confusing operation such as the [Fast Inverse Square Root](https://github.com/ajcr/ajcr.github.io/blob/master/_posts/2016-04-01-fast-inverse-square-root-python.md#using-struct), these kind of comments might make a world of difference to the next to the maintainer.\n",
    "\n",
    "Consider the cell below."
   ]
  },
  {
   "cell_type": "code",
   "execution_count": null,
   "metadata": {},
   "outputs": [],
   "source": [
    "import struct\n",
    "\n",
    "number = 16.0\n",
    "\n",
    "threehalfs = 1.5\n",
    "x2 = number * 0.5\n",
    "y = number\n",
    "\n",
    "packed_y = struct.pack('f', y)       \n",
    "i = struct.unpack('i', packed_y)[0]  # treat float's bytes as int \n",
    "i = 0x5f3759df - (i >> 1)            # arithmetic with magic number\n",
    "packed_i = struct.pack('i', i)\n",
    "y = struct.unpack('f', packed_i)[0]  # treat int's bytes as float\n",
    "\n",
    "y = y * (threehalfs - (x2 * y * y))  # Newton's method\n",
    "y"
   ]
  },
  {
   "cell_type": "markdown",
   "metadata": {},
   "source": [
    "This code is only a hypothetical, as it does not actually out perform Python's integrated inverse square root performance: `number**-0.5`, however, it still illustrates well why in-line comments are a good idea!\n",
    "\n",
    "Should we then comment every line of code? No. The code illustrated in the example above is not a normal case. Most tasks should not be this convoluted. Use comments sparingly, if code can be cleaned to avoid comments, you should clean the code.\n",
    "\n",
    "> “Don’t comment bad code — rewrite it.” - Brian W. Kernighan, The Elements of Programming Style"
   ]
  },
  {
   "cell_type": "markdown",
   "metadata": {},
   "source": [
    "##### 2.4.1.2 [Docstrings](https://www.python.org/dev/peps/pep-0257/)\n",
    "\n",
    "_Docstrings are not like in-line comments_. The docstring is a feature of the Python language that is designed to be used thoroughly.\n",
    "\n",
    "Docstrings are those triple quoted strings that you've seen me using in each function in this notebook. They can be one or more lines long, and usually follow the same format, though they might be styled differently.\n",
    "\n",
    "```py\n",
    "def do_nothing():\n",
    "    \"\"\"\n",
    "    The first line offers a brief explanation of it's owners purpose. \n",
    "    This is normally followed by an explanation of the arguments and return value.\n",
    "    \n",
    "    Args:\n",
    "        Argument name can go here: type information can go here. An explanation can go here.\n",
    "\n",
    "    Returns:\n",
    "        Return name can go here: type information can go here. An explanation can go here.\n",
    "    \"\"\"\n",
    "```\n",
    "\n",
    "Every part of the docstring is optional, and the style is up to you. [Check out how `numpy` does it](https://numpydoc.readthedocs.io/en/latest/format.html).\n",
    "\n",
    "Docstrings are valuable pieces of documentation that explain the functionality of Python definitions and modules. Ideally, each definition should have an associated docstring. In practice this is not always enforced, but it is something to keep in mind."
   ]
  },
  {
   "cell_type": "markdown",
   "metadata": {},
   "source": [
    "##### 2.4.1.3 Project level documentation\n",
    "\n",
    "As mentioned above, project level documentation methods (such as a `README.md` files or project wikis) are of big help to others and your future self. Think of how much trouble it would be for us if we didn't have the Python docs!\n",
    "\n",
    "Multi-contributer projects almost always have such documentation because new contributers often need some introduction to the project, and if a program public facing, anyone wishing to use the software will likely want to read about it first.\n",
    "\n",
    "In short. You should probably always include some kind of project level documentation. If you are new to the idea of `README.md` files, consider [this resource](https://www.makeareadme.com/#readme-101)."
   ]
  },
  {
   "cell_type": "markdown",
   "metadata": {},
   "source": [
    "#### 2.4.2 [Testable code](https://docs.python-guide.org/writing/tests/)\n",
    "\n",
    "Why do we write code? Generally, we are aiming at deploying our code into a production environment sooner or later. Yes, our code is meant not to stay in our text editor for the rest of it's life, but rather to iterate through it's life-cycle and be consumed.\n",
    "\n",
    "So, how can we be sure that our code will work once it lands in a production environment? We test it!\n",
    "\n",
    "Testing code is essential _before_ deployment. It is an excellent way to catch mistakes before an unsuspecting user does. Professional are expected to prepare their code for production, this includes testing their code.\n",
    "\n",
    "Most commonly, testing is managed through ['unit tests'](https://en.wikipedia.org/wiki/Unit_testing). These tests evaluate a 'unit' of code independently from the rest of the code base. For instance, a single module or definition might be executed in isolation with various parameters, normally checking for compatibility with common cases as well as edge cases.\n",
    "\n",
    "Ideally, every part of a piece of software will be tested this way before deployment. Of course, this does not always happen. Often, it is a tedious task to go through and write tests for every little unit of code, even if just for the common use cases. Some teams even drop tests all together, sometimes at the expense of user experience.\n",
    "\n",
    "One approach some have taken to rework this problem is to apply [Test Driven Development or TDD](https://en.wikipedia.org/wiki/Test-driven_development)\n",
    "\n",
    "> Test-driven development is a software development process relying on software requirements being converted to test cases before software is fully developed, and tracking all software development by repeatedly testing the software against all test cases. This is opposed to software being developed first and test cases created later.\n",
    "\n",
    "In Python, applying such a practice would mean that at first all your tests will fail. But after some development, once they all pass, you can be confident that you have successfully implemented a feature."
   ]
  },
  {
   "cell_type": "markdown",
   "metadata": {},
   "source": [
    "#### 2.4.2.1 Tools for testing\n",
    "\n",
    "Popular Python testing tools include [pytest](https://docs.pytest.org/en/stable/).\n",
    "\n",
    "See the code cells below for an example of how such tests can be written, [from the docs](https://docs.pytest.org/en/latest/getting-started.html#create-your-first-test).\n",
    "\n",
    "Note that I am using [`ipython_pytest`](https://github.com/akaihola/ipython_pytest) for convenience as I am running my tests in a Jupyter notebook."
   ]
  },
  {
   "cell_type": "code",
   "execution_count": null,
   "metadata": {},
   "outputs": [],
   "source": [
    "%load_ext ipython_pytest"
   ]
  },
  {
   "cell_type": "code",
   "execution_count": null,
   "metadata": {},
   "outputs": [],
   "source": [
    "%%pytest\n",
    "\n",
    "# content of test_sample.py\n",
    "def func(x):\n",
    "    return x + 1\n",
    "\n",
    "def test_answer():\n",
    "    assert func(3) == 5\n",
    "    \n",
    "class TestClass:\n",
    "    def test_one(self):\n",
    "        x = \"this\"\n",
    "        assert \"h\" in x\n",
    "\n",
    "    def test_two(self):\n",
    "        x = \"hello\"\n",
    "        assert hasattr(x, \"check\")"
   ]
  },
  {
   "cell_type": "markdown",
   "metadata": {},
   "source": [
    "As you can see, tools like `pytest` are not a necessity as much as a convenience. For example, the [`assert` statement](https://docs.python.org/3/reference/simple_stmts.html#grammar-token-assert-stmt) is part of the Python programming language.\n",
    "\n",
    "> Assert statements are a convenient way to insert debugging assertions into a program.\n",
    "\n",
    "But, it cannot be denied that such tools do make testing cleaner."
   ]
  },
  {
   "cell_type": "markdown",
   "metadata": {},
   "source": [
    "## 3. Collaboration\n",
    "\n",
    "Finally, we can consider common software engineering practices that contribute to better collaboration. Often, programmers are expected to work in teams. Much like how code can be made more efficient, often teams can be optimized for efficiency too.\n",
    "\n",
    "To continue with the theme of 'things that we write', let's consider the first topic of ['version control'](https://en.wikipedia.org/wiki/Version_control)"
   ]
  },
  {
   "cell_type": "markdown",
   "metadata": {},
   "source": [
    "### 3.1 [Version control](https://en.wikipedia.org/wiki/Version_controlhttps://en.wikipedia.org/wiki/Version_control) with [Git](https://en.wikipedia.org/wiki/Git)\n",
    "\n",
    "> Version control is a class of systems responsible for managing changes to computer programs, documents, large web sites, or other collections of information. Version control is a component of software configuration management.\n",
    "\n",
    "> Git is a distributed version-control system for tracking changes in any set of files, originally designed for coordinating work among programmers cooperating on source code during software development. Its goals include speed, data integrity, and support for distributed, non-linear workflows.\n",
    "\n",
    "As defined above, version control is meant to solve some of the problems associated with modern software development in collaboration with others.\n",
    "\n",
    "One common scenario developers find themselves in is _distributed, non-linear development_. This is common because on most teams, features are built in parallel. This means that one developer might be working on `feature A` while another developer might be working on `feature B`; the work is **distributed**. So far, that may not sound too complicated, but imagine the two developers are expected to complete their features at the _same time_; **non-linearly**. What problems arise in this scenario?\n",
    "\n",
    "Well, one issue is that the two developers might have overlapping sub-features. Imagine a [DRY](#2.2.1-DRY) statistical library, something like `numpy`. Two features might very well require the implementation of a [`linear combination`](http://linear.ups.edu/html/section-LC.html) function. Wouldn't it be great if, once one developer writes such a function, all the other developers could immediately use it? I encourage you to explore how [Git branching and merging](https://git-scm.com/book/en/v2/Git-Branching-Basic-Branching-and-Merging) resolves this issue.\n",
    "\n",
    "I encourage you to look through the Git documentation for more information about modern version control."
   ]
  },
  {
   "cell_type": "markdown",
   "metadata": {},
   "source": [
    "#### 3.1.1 GitHub\n",
    "\n",
    "So far we've seen that version control is beneficial for collaboration and that Git can be used to solve complex version control problems in a simple way.\n",
    "\n",
    "Git and related tools are used regularly in and out of the workplace. One such popular tool is [GitHub](https://github.com/about/).\n",
    "\n",
    "GitHub offers a platform for developers to host and manage their code through the standard Git functionality. GitHub also offers their own features.\n",
    "\n",
    "If you don't have a GitHub account already, go ahead and create an account and familiarize yourself with the software using [this guide](https://guides.github.com/activities/hello-world/).\n",
    "\n",
    "Once you learn how to navigate Git and GitHub, you should be ready to tackle just about any version control software.\n",
    "\n",
    "Afterward we will look at one key part of the collaboration process."
   ]
  },
  {
   "cell_type": "markdown",
   "metadata": {},
   "source": [
    "#### 3.1.2 [Code review](https://en.wikipedia.org/wiki/Code_review)\n",
    "\n",
    "> Code review (sometimes referred to as peer review) is a software quality assurance activity in which one or several people check a program mainly by viewing and reading parts of its source code, and they do so after implementation or as an interruption of implementation. At least one of the persons must not be the code's author. The persons performing the checking, excluding the author, are called \"reviewers\".\n",
    "\n",
    "In the GitHub guide, you read that: \"When you open a pull request, you're proposing your changes and requesting that someone review and pull in your contribution and merge them into their branch.\"\n",
    "\n",
    "Code reviews are not only part of GitHub. [Azure DevOps](https://azure.microsoft.com/en-us/services/devops/), [GitLab](https://about.gitlab.com/), [Bitbucket](https://bitbucket.org/product), and others all feature code reviews as integral parts of their software.\n",
    "\n",
    "Code reviews benefit every member of a team. The one writing the code will learn good practices from the ones reviewing the code, and the ones reviewing the code will improve in their ability to conduct reviews. Code reviews promote best practices and are a critical step in the deployment process. In this section, we'll consider what to look for in--and how to effectively conduct--a code review."
   ]
  },
  {
   "cell_type": "markdown",
   "metadata": {},
   "source": [
    "##### 3.1.2.1 Conducting a code review\n",
    "\n",
    "What are things you should look for when reviewing your peer's code?\n",
    "\n",
    "One easy place to begin is to look for the very practices we've discussed in this lesson. Is the code:\n",
    "- [Clean](#2.1-Clean-code)?\n",
    "- [Modular](#2.2-Modular-code)?\n",
    "- [Efficient](#2.3-Efficient-Code)?\n",
    "- [Maintainable](#2.4-Maintainable-code)?\n",
    "\n",
    "Consider the above [code optimization](#2.3.1-Optimization) section. We tackled one optimization problem that saved immense amounts of computation time. Such problems, if not caught early, could cause a world of headache down the line. Clearly, code reviews are **important!**"
   ]
  },
  {
   "cell_type": "markdown",
   "metadata": {},
   "source": [
    "So, what do we do when we spot a problematic piece of code? Keep in mind that you are dealing with your _peers_ in a code review. So be pragmatic.\n",
    "\n",
    "Start by **explaining issues clearly**, and then **make practical suggestions**. [Do not be dogmatic about personal preferences](#1.-Introduction-to-software-engineering-practices). Even when suggesting what is undeniably a best practice, try to explain why you are making such a suggestion, and accept it if you are wrong.\n",
    "\n",
    "Don't do this:\n",
    "> Your code isn't DRY.\n",
    "\n",
    "Do this is you are in a hurry:\n",
    "> Try to use the `matrix_mul` function from the `matrix_math` module instead of implementing it yourself on line 33:40. This would simplify `module_c.py` and adhere better to DRY.\n",
    "\n",
    "Do this as much as you can:\n",
    "> What do you think about reusing the `matrix_mul` function from the `matrix_math` module instead of implementing it yourself on line 33:40? This will simplify `module_c.py` and adhere better to DRY. The `matrix_math` module is well tested and fairly optimized.\n",
    "\n",
    "Notice that even in the worst example mentioned above, attention is still primarily drawn to the code. It is critical to avoid drawing attention to yourself or to the code writer during the review, don't make it personal by saying something like _\"Why can't you just write good code?\"_. That wouldn't be pragmatic."
   ]
  },
  {
   "cell_type": "markdown",
   "metadata": {},
   "source": [
    "Another idea might be to include code examples. For example in our previously mentioned optimization problem, it could be practical to write the solution out right, even if only in [pseudocode](https://en.wikipedia.org/wiki/Pseudocode), especially when reviewing the code of someone less experienced than yourself. That could be most pragmatic."
   ]
  },
  {
   "cell_type": "markdown",
   "metadata": {},
   "source": [
    "With that, we can conclude our lesson on **'Software Engineering Practices'**.\n",
    "\n",
    "All of the above mentioned practices are practical, and commonly applied in the workplace, explicitly or otherwise. I encourage you to do your own further research on more software engineering best practices. You may be surprised about what practical advice is available online.\n",
    "\n",
    "Learning to do your own research, and being an effective ['self-learner'](https://en.wikipedia.org/wiki/Autodidacticism) will always make you a more valuable programmer. You may even benefit yourself in unexpected ways."
   ]
  }
 ],
 "metadata": {
  "kernelspec": {
   "display_name": "Python 3",
   "language": "python",
   "name": "python3"
  },
  "language_info": {
   "codemirror_mode": {
    "name": "ipython",
    "version": 3
   },
   "file_extension": ".py",
   "mimetype": "text/x-python",
   "name": "python",
   "nbconvert_exporter": "python",
   "pygments_lexer": "ipython3",
   "version": "3.8.5"
  }
 },
 "nbformat": 4,
 "nbformat_minor": 4
}
