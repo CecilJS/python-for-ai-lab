{
 "cells": [
  {
   "cell_type": "markdown",
   "metadata": {},
   "source": [
    "# Software Engineering Practices\n",
    "\n",
    "In this notebook we will cover the practice of software development in relation to high-level languages such as Python. The code examples will be written in Python. In this lesson we will not make a distinction between a computer programmer, software developer, or software engineer. In this notebook, they will all refer to the same profession.\n",
    "\n",
    "I will generally use the expression [software engineer](https://en.wikipedia.org/wiki/Software_engineer) because I think the general understanding of that expression pertains to the topics at hand just fine.\n",
    "\n",
    "> A **software engineer**...  is a person who applies the principles of [software engineering](https://en.wikipedia.org/wiki/Software_engineering) to the design, development, maintenance, testing, and evaluation of [computer software](https://en.wikipedia.org/wiki/Software).\n",
    "\n",
    "By now you should have at least a basic knowledge of the Python programming language. If someone asked you to write a simple program in this notebook, for instance, you should be able to do it.\n",
    "\n",
    "This lesson, then, is not meant to introduce you to programming, but rather to introduce you to important practices that software developers and engineers are expected to be knowledgeable of."
   ]
  },
  {
   "cell_type": "markdown",
   "metadata": {},
   "source": [
    "## 1. Introduction to software engineering practices\n",
    "\n",
    "You will often hear of different software engineering 'practices' in the workplace. Professionals are expected to be able to apply _widely accepted practices_ which improve the overall quality of a team or project. This is critical because your _personally preferred practices_ may differ from what others prefer. Professional software engineering, especially when working on a team, requires a level of consistency and quality. Therefore, some practices will likely need to be applied across an entire project or team so that you might meet your target metrics. Of course, many professionals, teams, and even organizations have already experimented with different practices; this is where the idea of [_'best practices'_](https://en.wikipedia.org/wiki/Best_practice) comes in to play. These are practices that have proven to be effective across projects, teams, and organizations.\n",
    "\n",
    "_'Practice'_ is usually in reference to the above mentioned practice of applying 'the principles of software engineering to the design, development, maintenance, testing, and evaluation of computer software.' For instance, one practice may pertain to the general efficiency and modularity of code, while another practice may pertain to a specific nuance of [version control](https://en.wikipedia.org/wiki/Version_control) or something else.\n",
    "\n",
    "For example, one programmer may prefer the development practice of using the shortest possible names (consider the function name `get_doc_el()`) while others may prefer using unabbreviated names (consider the equivalent function name `get_document_element()`). Yet, either practice is often inconsequential as long as the over all _'best practice'_ of using _clear, specific, meaningful names_ is applied.\n",
    "\n",
    "Therefore, when a professional suggests a _'best practice'_, it is almost always a practice that is _widely considered superior than alternative practices_ and not merely a personal preference.\n",
    "\n",
    "If we consider our development practice relating to naming above, an inferior practice would be to use broad, confusing, or meaningless names such as `get_the_dat()` which uses a lot of characters to communicates very little information."
   ]
  },
  {
   "cell_type": "markdown",
   "metadata": {},
   "source": [
    "### 1.1 Who is concerned with best practices?\n",
    "\n",
    "Generally, senior professionals expected to understand _**why**_ a practice is best and _**how**_ to tweak a practice to better fit a team or project, while more junior professionals are expected to know _**what**_ best practices to use in a given environment. The software engineering community as a whole is in agreement concerning most honest _'best practice'_ without much dissent.\n",
    "\n",
    "Likely these practices will be of great concern to you."
   ]
  },
  {
   "cell_type": "markdown",
   "metadata": {},
   "source": [
    "### 1.2 Lesson overview\n",
    "\n",
    "In this lesson, you will learn about the following software engineering practices:\n",
    "\n",
    "- Writing clean, efficient, modular, and optimized code\n",
    "- Writing maintainable, testable, and documented code\n",
    "- Collaborative engineering and version control with Git\n",
    "\n",
    "You will also learn about and practice code refactoring with the goal of improving a programs quality."
   ]
  },
  {
   "cell_type": "markdown",
   "metadata": {},
   "source": [
    "## 2. Software quality best practices\n",
    "\n",
    "> Best practices are used to maintain quality as an alternative to mandatory legislated standards and can be based on self-assessment or benchmarking.\n",
    "\n",
    "This section will focus on what we write as software engineers--[quality software](https://en.wikipedia.org/wiki/Non-functional_requirement)--in relation to [non-functional requirements](https://en.wikipedia.org/wiki/Non-functional_requirement); 'the degree to which the software works as needed.'"
   ]
  },
  {
   "cell_type": "markdown",
   "metadata": {},
   "source": [
    "### 2.1 Clean code\n",
    "\n",
    "> 'It is not enough for code to work.' - Robert C. Martin, Clean Code: A Handbook of Agile Software Craftsmanship\n",
    "\n",
    "Clean code is readable, simple, and concise. This kind of code makes for good collaboration. When one person can write a piece of code and everyone else can easily understand it, that is a fine piece of code.\n",
    "\n",
    "Consider the following code block:"
   ]
  },
  {
   "cell_type": "code",
   "execution_count": 29,
   "metadata": {},
   "outputs": [],
   "source": [
    "def to_string(iterable=()):\n",
    "    \"\"\"\n",
    "    Transforms an iterable into a string.\n",
    "\n",
    "    Args:\n",
    "        iterable: Any iterable object, such as a list or tuple.\n",
    "\n",
    "    Returns:\n",
    "        A str.\n",
    "    \"\"\"\n",
    "    \n",
    "    s = ''\n",
    "    \n",
    "    for item in iterable:\n",
    "        s += str(item)\n",
    "    \n",
    "    return s"
   ]
  },
  {
   "cell_type": "code",
   "execution_count": 30,
   "metadata": {},
   "outputs": [
    {
     "data": {
      "text/plain": [
       "'Hi.'"
      ]
     },
     "execution_count": 30,
     "metadata": {},
     "output_type": "execute_result"
    }
   ],
   "source": [
    "to_string(['H', 'i', '.'])"
   ]
  },
  {
   "cell_type": "markdown",
   "metadata": {},
   "source": [
    "Above, we observe a piece of code that reads dimply and concisely. You do not need to stop and ask 'what does this do?' or 'why does it do that?'; It does what it says, and it does so in a simple, obvious way. \n",
    "\n",
    "We can also see that this function is modular."
   ]
  },
  {
   "cell_type": "markdown",
   "metadata": {},
   "source": [
    "Modularity is often associated with clean code. Modular code is logically broken up into pieces, such as functions and modules. These pieces are then composed as needed. Modular code is often reusable if implemented pragmatically.\n",
    "\n",
    "In Python a [module](https://docs.python.org/3/tutorial/modules.html) is just a file.\n",
    "\n",
    "> A module is a file containing Python definitions and statements. The file name is the module name with the suffix `.py` appended. Within a module, the module’s name (as a string) is available as the value of the global variable `__name__`. \n",
    "\n",
    "The above link contains a simple guide to implementing a module named `fibo`, try following that guide using the file `fibo.py` in the same directory as this notebook.\n",
    "\n",
    "Afterward use the `import fibo` statement below to import your module, run the containing procedure and function, print out the returned value of the function, and print out the module `__name__`."
   ]
  },
  {
   "cell_type": "code",
   "execution_count": 31,
   "metadata": {},
   "outputs": [],
   "source": [
    "import fibo\n",
    "#\n",
    "# Your code here\n",
    "#\n"
   ]
  },
  {
   "cell_type": "markdown",
   "metadata": {},
   "source": [
    "Excellent, now that we have our first module, let's review some key principles that make code clean."
   ]
  },
  {
   "cell_type": "markdown",
   "metadata": {},
   "source": [
    "#### 2.1.1 Meaningful names\n",
    "\n",
    "> 'You should name a variable using the same care with which you name a first-born child.You should name a variable using the same care with which you name a first-born child.' - Robert C. Martin, Clean Code: A Handbook of Agile Software Craftsmanship\n",
    "\n",
    "Names are used to convey meaning, try to convey as much meaning as you possibly in as few descriptors as possible.\n",
    "\n",
    "Meaningful names are:\n",
    "\n",
    "- Implicative. Use speech when possible to make implications. You may use a verb, for instance, when naming a function or a noun for naming a variable. For example, a boolean value might read `is_valid`.\n",
    "- Differentiable. Avoid similar and generic names. For example, avoid names like `data` if that data can be named something else, such as `form_value`."
   ]
  },
  {
   "cell_type": "markdown",
   "metadata": {},
   "source": [
    "#### 2.1.2 Meaningful styling\n",
    "\n",
    "From [`PEP 8`](https://www.python.org/dev/peps/pep-0008/)\n",
    "\n",
    "> A style guide is about consistency. Consistency with this style guide is important. Consistency within a project is more important. Consistency within one module or function is the most important.\n",
    "\n",
    "The above cited Python Enhancement Proposal offers a great deal of insight into how to 'style' your code. That is, how and where to use whitespace to make your code pleasant and readable.\n",
    "\n",
    "I encourage you too examine this style guide as well as others to get an idea of how whitespace can be used effectively. You can also take advantage of your text editor or IDE, many have style related features, such as code formatters. ['Black'](https://black.readthedocs.io/en/stable/) is supported by many popular tools.\n",
    "\n",
    "In summary, try to make code that is visually appealing to others."
   ]
  },
  {
   "cell_type": "markdown",
   "metadata": {},
   "source": [
    "### 2.2 Modular code\n",
    "\n",
    "Modularization in Python allows us to reuse parts of our code, for instance, by generalizing and consolidating repeated code into compound statements, definitions, or modules. One easy application is to make Python definitions responsible for only one thing. If a (compound) statement or definition prints the _fibonacci_ sequence, it should not also print _pie_ to a given decimal.\n",
    "\n",
    "We spoke a lot about what modularity looks like in the preceding section as it is strongly coupled with clean code practices. In this section, we will consider a few principles that contribute to modular code."
   ]
  },
  {
   "cell_type": "markdown",
   "metadata": {},
   "source": [
    "#### 2.2.1 [DRY](https://en.wikipedia.org/wiki/Don%27t_repeat_yourself)\n",
    "\n",
    "> Every piece of knowledge must have a single, unambiguous, authoritative representation within a system.\n",
    "\n",
    "The DRY principle helps us to write modular code by forcing us write our code in such a way that any 'modification of any single element of a system does not require a change in other logically unrelated elements'.\n",
    "\n",
    "Consider the following block of code."
   ]
  },
  {
   "cell_type": "code",
   "execution_count": 32,
   "metadata": {},
   "outputs": [
    {
     "name": "stdout",
     "output_type": "stream",
     "text": [
      "Quarter 1 profits were EURO 100000.0 \n",
      "Quarter 2 profits were EURO 140000.0 \n",
      "Quarter 3 profits were EURO 180000.0 \n",
      "Quarter 4 profits were EURO 200000.0\n"
     ]
    }
   ],
   "source": [
    "quarters = [1, 2, 3, 4]\n",
    "quarter_profits = [100_000.00, 140_000.00, 180_000.00, 200_000.00]\n",
    "frequency = 'quarter'\n",
    "\n",
    "print(f\"{frequency.capitalize()} {quarters[0]} profits were EURO {quarter_profits[0]}\",\n",
    "      f\"\\n{frequency.capitalize()} {quarters[1]} profits were EURO {quarter_profits[1]}\",\n",
    "      f\"\\n{frequency.capitalize()} {quarters[2]} profits were EURO {quarter_profits[2]}\",\n",
    "      f\"\\n{frequency.capitalize()} {quarters[3]} profits were EURO {quarter_profits[3]}\")"
   ]
  },
  {
   "cell_type": "markdown",
   "metadata": {},
   "source": [
    "What's wrong with the code above?\n",
    "\n",
    "Stylistically it's fine, names are readable and obvious, whitespace is consistent and up to standard, and the code is clear and concise. Use of the [`f-string`](https://www.python.org/dev/peps/pep-0498/) is also fine. There are no errors either. It probably performs just fine too. Further, anyone could look at the above code and figure out what it is doing. \n",
    "\n",
    "So what's wrong? This code is simply **not _pragmatic_**. \n",
    "\n",
    "Printing the profits of each **month** instead of each **quarter** would require rewriting practically the entire code block. It is not practical.\n",
    "\n",
    "In the cell below, refactor the above block of code so that generalizes both to months and quarters, and can be further extended arbitrarily."
   ]
  },
  {
   "cell_type": "code",
   "execution_count": 33,
   "metadata": {},
   "outputs": [],
   "source": [
    "quarters = [1, 2, 3, 4]\n",
    "quarter_profits = [100_000.00, 140_000.00, 180_000.00, 200_000.00]\n",
    "\n",
    "months = [1, 2, 3, 4, 5, 6, 7, 8, 9, 10, 11, 12]\n",
    "month_profits = [20_000.00, 30_000.00, 50_000.00, 30_000.00, 60_000.00, 50_000.00, \n",
    "                 60_000.00, 70_000.00, 50_000.00, 100_000.00, 60_000.00, 40_000.00]\n",
    "\n",
    "#\n",
    "# Your code here.\n",
    "#\n"
   ]
  },
  {
   "cell_type": "markdown",
   "metadata": {},
   "source": [
    "There are a number of ways to solve the above challenge. Below, you can see one solution. Compare it to yours, or reference it if you get stuck."
   ]
  },
  {
   "cell_type": "code",
   "execution_count": 34,
   "metadata": {},
   "outputs": [
    {
     "name": "stdout",
     "output_type": "stream",
     "text": [
      "\n",
      "Monthly profits:\n",
      "Month 1 profits were EURO 20000.0\n",
      "Month 2 profits were EURO 30000.0\n",
      "Month 3 profits were EURO 50000.0\n",
      "Month 4 profits were EURO 30000.0\n",
      "Month 5 profits were EURO 60000.0\n",
      "Month 6 profits were EURO 50000.0\n",
      "Month 7 profits were EURO 60000.0\n",
      "Month 8 profits were EURO 70000.0\n",
      "Month 9 profits were EURO 50000.0\n",
      "Month 10 profits were EURO 100000.0\n",
      "Month 11 profits were EURO 60000.0\n",
      "Month 12 profits were EURO 40000.0\n",
      "\n",
      "Quareterly profits:\n",
      "Quarter 1 profits were EURO 100000.0\n",
      "Quarter 2 profits were EURO 140000.0\n",
      "Quarter 3 profits were EURO 180000.0\n",
      "Quarter 4 profits were EURO 200000.0\n"
     ]
    }
   ],
   "source": [
    "def print_profits(frequency, period, profit):\n",
    "    \"\"\"\n",
    "    Prints profits\n",
    "    \n",
    "    Args:\n",
    "        frequency: Any str. The name of a calendar period such as 'month' or 'quarter'.\n",
    "        period: Any int or str. A specific period in frequency.\n",
    "        profit: Any int or str. The profit in period.\n",
    "    \"\"\"\n",
    "    print(f\"{frequency.capitalize()} {period} profits were EURO {profit}\")\n",
    "    \n",
    "print(\"\\nMonthly profits:\")\n",
    "for i, month in enumerate(months):\n",
    "    print_profits('month', month, month_profits[i])\n",
    "    \n",
    "print(\"\\nQuareterly profits:\")\n",
    "for i, quarter in enumerate(quarters):\n",
    "    print_profits('quarter', quarter, quarter_profits[i])"
   ]
  },
  {
   "cell_type": "markdown",
   "metadata": {},
   "source": [
    "As you see, the code above can really be used for any frequency. Changing the reporting frequency requires minimal effort and can be done arbitrarily without touching the printing logic.\n",
    "\n",
    "> A modification of any single element of a system does not require a change in other logically unrelated elements."
   ]
  },
  {
   "cell_type": "markdown",
   "metadata": {},
   "source": [
    "### 2.3 Efficient Code\n",
    "\n",
    "Besides writing clean code, professionals need to produce code that is efficient.\n",
    "\n",
    "The _extent_ to which this must be accomplished usually varies from feature to feature, however, professionals will always try to write code that meets requirements while using the fewest possible resources. This requires [continuous planning, analysis, design, implementation, and maintenance](https://en.wikipedia.org/wiki/Systems_development_life_cycle)."
   ]
  },
  {
   "cell_type": "markdown",
   "metadata": {},
   "source": [
    "#### 2.3.1 [Optimization](https://en.wikipedia.org/wiki/Program_optimization#:~:text=In%20computer%20science%2C%20program%20optimization,efficiently%20or%20use%20fewer%20resources.)\n",
    "\n",
    "> Software optimization is the process of modifying a software system to make some aspect of it work more efficiently or use fewer resources.\n",
    "\n",
    "Optimization is a very different domain from clean and modular code as defined above. Optimization is not concerned about readability, maintainability, or anything like that. When we think of optimization, we usually have two goals in mind:\n",
    "\n",
    "- Increasing performance. _Code goes fast_.\n",
    "- Reducing cost. _Code uses less resources_.\n",
    "\n",
    "For instance, a Python function that _executes faster_ while using _less memory_ is by definition _more optimal_ if it continues to meet the original requirements. How can a function be optimized in such a way? This can often be accomplished by carefully choosing and implementing algorithms and data structures.\n",
    "\n",
    "Consider the code cells below which depict algorithms for finding the intersection between two unique arrays. We will be using the [`numpy`](https://numpy.org/) library, so make sure you have [`numpy` installed](https://numpy.org/install/)."
   ]
  },
  {
   "cell_type": "code",
   "execution_count": 115,
   "metadata": {},
   "outputs": [],
   "source": [
    "import time\n",
    "from numpy.random import default_rng\n",
    "\n",
    "rng = default_rng()\n",
    "int_range = 10_000_000\n",
    "length = 200_000\n",
    "\n",
    "int_group1 = rng.choice(int_range, size=length, replace=False)\n",
    "int_group2 = rng.choice(int_range, size=length, replace=False)"
   ]
  },
  {
   "cell_type": "code",
   "execution_count": 116,
   "metadata": {},
   "outputs": [
    {
     "name": "stdout",
     "output_type": "stream",
     "text": [
      "3901 \n",
      "Completed in 16.012588262557983 seconds\n"
     ]
    }
   ],
   "source": [
    "start_time = time.time()\n",
    "\n",
    "intersecting_numbers = []\n",
    "\n",
    "for number in int_group1:\n",
    "    if number in int_group2:\n",
    "        intersecting_numbers.append(number)\n",
    "\n",
    "print(len(intersecting_numbers),\n",
    "      f'\\nCompleted in {time.time() - start_time} seconds')"
   ]
  },
  {
   "cell_type": "markdown",
   "metadata": {},
   "source": [
    "Above we see an example of a less than optimal solution.\n",
    "\n",
    "When I ran the above code, it took over _16 seconds_ to execute. This is because we are using both an inefficient data structure and an inefficient algorithm. This solution \n",
    "\n",
    "Below we consider a more efficient solution."
   ]
  },
  {
   "cell_type": "code",
   "execution_count": 117,
   "metadata": {},
   "outputs": [
    {
     "name": "stdout",
     "output_type": "stream",
     "text": [
      "3901 \n",
      "Completed in 0.03690075874328613 seconds\n"
     ]
    }
   ],
   "source": [
    "import numpy as np\n",
    "\n",
    "start_time = time.time()\n",
    "\n",
    "intersecting_numbers = np.intersect1d(int_group1, int_group2)\n",
    "\n",
    "print(len(intersecting_numbers),\n",
    "      f'\\nCompleted in {time.time() - start_time} seconds')"
   ]
  },
  {
   "cell_type": "markdown",
   "metadata": {},
   "source": [
    "Rather than iterate by means of loops, above we use [numpy.intersect1d](https://numpy.org/doc/stable/reference/generated/numpy.intersect1d.html) [vector operation](https://www.oreilly.com/library/view/python-for-data/9781449323592/ch04.html) to solve the same problem. \n",
    "\n",
    "When I ran the above code, it executed in about 0.03 seconds. That's quite the improvement!\n",
    "\n",
    "Can we increase performance further? In this example we changed the _algorithm_, we went from loops to a vector operation. What would happen if we now chose a better fitting _data structure_?\n",
    "\n",
    "Consider the following cell."
   ]
  },
  {
   "cell_type": "code",
   "execution_count": 118,
   "metadata": {},
   "outputs": [],
   "source": [
    "int_group1 = set(int_group1)\n",
    "int_group2 = set(int_group2)"
   ]
  },
  {
   "cell_type": "markdown",
   "metadata": {},
   "source": [
    "Above, we have transformed the `numpy` arrays into Python sets. We can expect good performance. The Python [`set`](https://docs.python.org/3/tutorial/datastructures.html#sets) is implemented using the [hash table](https://en.wikipedia.org/wiki/Hash_table) data structure.\n",
    "\n",
    "How do you think our algorithm will perform when using the `intersection` method of the built in Python `set`?"
   ]
  },
  {
   "cell_type": "code",
   "execution_count": 119,
   "metadata": {},
   "outputs": [
    {
     "name": "stdout",
     "output_type": "stream",
     "text": [
      "3901 \n",
      "Completed in 0.003988981246948242 seconds\n"
     ]
    }
   ],
   "source": [
    "start_time = time.time()\n",
    "\n",
    "intersecting_numbers = int_group1.intersection(int_group2)\n",
    "\n",
    "print(len(intersecting_numbers),\n",
    "      f'\\nCompleted in {time.time() - start_time} seconds')"
   ]
  },
  {
   "cell_type": "markdown",
   "metadata": {},
   "source": [
    "When I ran the above code, it executed in about 0.003 seconds. That means that our final solution performs 5333 times faster than are unoptimized solution.\n",
    "\n",
    "Optimization problems like the one illustrated above are common in the workplace. Take a moment to consider other like challenges that could be addressed in similar ways. Afterward we can dive into _maintainable code_."
   ]
  },
  {
   "cell_type": "markdown",
   "metadata": {},
   "source": [
    "### 2.4 Maintainable code\n",
    "\n",
    "Of course, many of the ideas above contribute to a maintainable code base. For instance, [DRY](#2.2.1-DRY) code is often easier to maintain and refactor, as you don't have to worry about breaking one feature while updating another. Likewise [SOLID](https://en.wikipedia.org/wiki/SOLID) code obviously offers many advantages over the entire life of a project.\n",
    "\n",
    "But what about the things we write that _aren't_ directly contributing to features? Tests for instance? Or documentation? How can such practices help make for better code?"
   ]
  },
  {
   "cell_type": "markdown",
   "metadata": {},
   "source": [
    "#### 2.4.1 Documentation\n",
    "\n",
    "Documentation can come in many forms. One of the obvious ones is documentation in the form of a reference guide, such as the [Python Documentation](https://docs.python.org/) which we have been referencing throughout this class. This kind of documentation can be great for complex [interfaces](https://en.wikipedia.org/wiki/Interface_(computing)) meant for external consumption, for instance if you were writing an [API](https://en.wikipedia.org/wiki/API) for a complex cloud solution like Azure, AWS, or Google Cloud.\n",
    "\n",
    "But documentation can also come in other forms. Above we mentioned how good names are better than documentation in the form of comments. But does that mean we _never_ need comments? "
   ]
  },
  {
   "cell_type": "code",
   "execution_count": null,
   "metadata": {},
   "outputs": [],
   "source": []
  }
 ],
 "metadata": {
  "kernelspec": {
   "display_name": "Python 3",
   "language": "python",
   "name": "python3"
  },
  "language_info": {
   "codemirror_mode": {
    "name": "ipython",
    "version": 3
   },
   "file_extension": ".py",
   "mimetype": "text/x-python",
   "name": "python",
   "nbconvert_exporter": "python",
   "pygments_lexer": "ipython3",
   "version": "3.8.5"
  }
 },
 "nbformat": 4,
 "nbformat_minor": 4
}
