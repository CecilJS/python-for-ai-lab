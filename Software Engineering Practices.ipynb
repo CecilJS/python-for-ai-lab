{
 "cells": [
  {
   "cell_type": "markdown",
   "metadata": {},
   "source": [
    "# Software Engineering Practices\n",
    "\n",
    "In this notebook we will cover the practice of software development in relation to high-level languages such as Python. The code examples will be written in Python. In this lesson we will not make a distinction between a computer programmer, software developer, or software engineer. In this notebook, they will all refer to the same profession.\n",
    "\n",
    "I will generally use the expression [software engineer](https://en.wikipedia.org/wiki/Software_engineer) because I think the general understanding of that expression pertains to the topics at hand just fine.\n",
    "\n",
    "> A **software engineer**...  is a person who applies the principles of [software engineering](https://en.wikipedia.org/wiki/Software_engineering) to the design, development, maintenance, testing, and evaluation of [computer software](https://en.wikipedia.org/wiki/Software).\n",
    "\n",
    "By now you should have at least a basic knowledge of the Python programming language. If someone asked you to write a simple program in this notebook, for instance, you should be able to do it.\n",
    "\n",
    "This lesson, then, is not meant to introduce you to programming, but rather to introduce you to important practices that software developers and engineers are expected to be knowledgeable of."
   ]
  },
  {
   "cell_type": "markdown",
   "metadata": {},
   "source": [
    "## 1. Introduction to software engineering practices\n",
    "\n",
    "You will often hear of different software engineering 'practices' in the workplace. Professionals are expected to be able to apply _widely accepted practices_ which improve the overall quality of a team or project. This is critical because your _personally preferred practices_ may differ from what others prefer. Professional software engineering, especially when working on a team, requires a level of consistency and quality. Therefore, some practices will likely need to be applied across an entire project or team so that you might meet your target metrics. Of course, many professionals, teams, and even organizations have already experimented with different practices; this is where the idea of [_'best practices'_](https://en.wikipedia.org/wiki/Best_practice) comes in to play. These are practices that have proven to be effective across projects, teams, and organizations.\n",
    "\n",
    "_'Practice'_ is usually in reference to the above mentioned practice of applying 'the principles of software engineering to the design, development, maintenance, testing, and evaluation of computer software.' For instance, one practice may pertain to the general efficiency and modularity of code, while another practice may pertain to a specific nuance of [version control](https://en.wikipedia.org/wiki/Version_control) or something else.\n",
    "\n",
    "For example, one programmer may prefer the development practice of using the shortest possible names (consider the function name `get_doc_el()`) while others may prefer using unabbreviated names (consider the equivalent function name `get_document_element()`). Yet, either practice is often inconsequential as long as the over all _'best practice'_ of using _clear, specific, meaningful names_ is applied.\n",
    "\n",
    "Therefore, when a professional suggests a _'best practice'_, it is almost always a practice that is _widely considered superior than alternative practices_ and not merely a personal preference.\n",
    "\n",
    "If we consider our development practice relating to naming above, an inferior practice would be to use broad, confusing, or meaningless names such as `get_the_dat()` which uses a lot of characters to communicates very little information."
   ]
  },
  {
   "cell_type": "markdown",
   "metadata": {},
   "source": [
    "### 1.1 Who is concerned with best practices?\n",
    "\n",
    "Generally, senior professionals expected to understand _**why**_ a practice is best and _**how**_ to tweak a practice to better fit a team or project, while more junior professionals are expected to know _**what**_ best practices to use in a given environment. The software engineering community as a whole is in agreement concerning most honest _'best practice'_ without much dissent.\n",
    "\n",
    "Likely these practices will be of great concern to you."
   ]
  },
  {
   "cell_type": "markdown",
   "metadata": {},
   "source": [
    "### 1.2 Lesson overview\n",
    "\n",
    "In this lesson, you will learn about the following software engineering practices:\n",
    "\n",
    "- Writing clean, efficient, modular, and optimized code\n",
    "- Writing maintainable, testable, and documented code\n",
    "- Collaborative engineering and version control with Git\n",
    "\n",
    "You will also learn about and practice code refactoring with the goal of improving a programs quality."
   ]
  },
  {
   "cell_type": "markdown",
   "metadata": {},
   "source": [
    "## 2. Software quality best practices\n",
    "\n",
    "> Best practices are used to maintain quality as an alternative to mandatory legislated standards and can be based on self-assessment or benchmarking.\n",
    "\n",
    "This section will focus on what we write as software engineers--[quality software](https://en.wikipedia.org/wiki/Non-functional_requirement)--in relation to [non-functional requirements](https://en.wikipedia.org/wiki/Non-functional_requirement); 'the degree to which the software works as needed.'"
   ]
  },
  {
   "cell_type": "markdown",
   "metadata": {},
   "source": [
    "### 2.1 Writing clean and modular code\n",
    "\n",
    "> 'It is not enough for code to work.' - Robert C. Martin, Clean Code: A Handbook of Agile Software Craftsmanship\n",
    "\n",
    "Clean code is readable, simple, and concise. This kind of code makes for good collaboration. When one person can write a piece of code and everyone else can easily understand it, that is a fine piece of code.\n",
    "\n",
    "Consider the following code block:"
   ]
  },
  {
   "cell_type": "code",
   "execution_count": 26,
   "metadata": {},
   "outputs": [],
   "source": [
    "def to_string(iterable=()):\n",
    "    \"\"\"\n",
    "    Transforms an iterable into a string.\n",
    "\n",
    "    Args:\n",
    "        iterable: Any iterable object, such as a list or tuple.\n",
    "\n",
    "    Returns:\n",
    "        A str.\n",
    "    \"\"\"\n",
    "    \n",
    "    s = ''\n",
    "    \n",
    "    for item in iterable:\n",
    "        s += str(item)\n",
    "    \n",
    "    return s"
   ]
  },
  {
   "cell_type": "code",
   "execution_count": 27,
   "metadata": {},
   "outputs": [
    {
     "data": {
      "text/plain": [
       "'Hi.'"
      ]
     },
     "execution_count": 27,
     "metadata": {},
     "output_type": "execute_result"
    }
   ],
   "source": [
    "to_string(['H', 'i', '.'])"
   ]
  },
  {
   "cell_type": "markdown",
   "metadata": {},
   "source": [
    "Above, we observe a piece of code that reads dimply and concisely. You do not need to stop and ask 'what does this do?' or 'why does it do that?'; It does what it says, and it does so in a simple, obvious way. \n",
    "\n",
    "We can also see that this function is modular."
   ]
  },
  {
   "cell_type": "markdown",
   "metadata": {},
   "source": [
    "Modularity is often associated with clean code. Modular code is logically broken up into pieces, such as functions and modules. These pieces are then composed as needed. Modular code is often reusable if implemented pragmatically.\n",
    "\n",
    "In Python a [module](https://docs.python.org/3/tutorial/modules.html) is just a file.\n",
    "\n",
    "> A module is a file containing Python definitions and statements. The file name is the module name with the suffix `.py` appended. Within a module, the module’s name (as a string) is available as the value of the global variable `__name__`. \n",
    "\n",
    "The above link contains a simple guide to implementing a module named `fibo`, try following that guide using the file `fibo.py` in the same directory as this notebook.\n",
    "\n",
    "Afterward use the `import fibo` statement below to import your module, run the containing procedure and function, print out the returned value of the function, and print out the module `__name__`."
   ]
  },
  {
   "cell_type": "code",
   "execution_count": 37,
   "metadata": {},
   "outputs": [],
   "source": [
    "import fibo\n",
    "#\n",
    "# Your code here\n",
    "#\n"
   ]
  },
  {
   "cell_type": "markdown",
   "metadata": {},
   "source": [
    "Excellent, now that we have our first module, let's review some key principles that make code clean."
   ]
  },
  {
   "cell_type": "markdown",
   "metadata": {},
   "source": [
    "#### 2.1.1 Meaningful names\n",
    "\n",
    "> 'You should name a variable using the same care with which you name a first-born child.You should name a variable using the same care with which you name a first-born child.' - Robert C. Martin, Clean Code: A Handbook of Agile Software Craftsmanship\n",
    "\n",
    "Names are used to convey meaning, try to convey as much meaning as you possibly in as few descriptors as possible.\n",
    "\n",
    "Meaningful names are:\n",
    "\n",
    "- Implicative. Use speech when possible to make implications. You may use a verb, for instance, when naming a function or a noun for naming a variable. For example, a boolean value might read `is_valid`.\n",
    "- Differentiable. Avoid similar and generic names. For example, avoid names like `data` if that data can be named something else, such as `form_value`."
   ]
  },
  {
   "cell_type": "markdown",
   "metadata": {},
   "source": [
    "#### 2.1.2 Meaningful styling\n",
    "\n",
    "From [`PEP 8`](https://www.python.org/dev/peps/pep-0008/)\n",
    "\n",
    "> A style guide is about consistency. Consistency with this style guide is important. Consistency within a project is more important. Consistency within one module or function is the most important.\n",
    "\n",
    "The above cited Python Enhancement Proposal offers a great deal of insight into how to 'style' your code. That is, how and where to use whitespace to make your code pleasant and readable.\n",
    "\n",
    "I encourage you too examine this style guide as well as others to get an idea of how whitespace can be used effectively. You can also take advantage of your text editor or IDE, many have style related features, such as code formatters. ['Black'](https://black.readthedocs.io/en/stable/) is supported by many popular tools.\n",
    "\n",
    "In summary, try to make code that is visually appealing to others."
   ]
  },
  {
   "cell_type": "code",
   "execution_count": null,
   "metadata": {},
   "outputs": [],
   "source": []
  }
 ],
 "metadata": {
  "kernelspec": {
   "display_name": "Python 3",
   "language": "python",
   "name": "python3"
  },
  "language_info": {
   "codemirror_mode": {
    "name": "ipython",
    "version": 3
   },
   "file_extension": ".py",
   "mimetype": "text/x-python",
   "name": "python",
   "nbconvert_exporter": "python",
   "pygments_lexer": "ipython3",
   "version": "3.8.5"
  }
 },
 "nbformat": 4,
 "nbformat_minor": 4
}
